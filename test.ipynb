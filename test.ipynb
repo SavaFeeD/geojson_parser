{
 "cells": [
  {
   "cell_type": "code",
   "execution_count": 1,
   "id": "ba746ee7",
   "metadata": {},
   "outputs": [],
   "source": [
    "import os\n",
    "import pandas as pd\n",
    "import numpy as np\n",
    "import json"
   ]
  },
  {
   "cell_type": "code",
   "execution_count": 2,
   "id": "af618438",
   "metadata": {},
   "outputs": [],
   "source": [
    "class Payload(object):\n",
    "    def __init__(self, j):\n",
    "        self.__dict__ = json.loads(j)"
   ]
  },
  {
   "cell_type": "code",
   "execution_count": 3,
   "id": "1e210885",
   "metadata": {
    "scrolled": true
   },
   "outputs": [
    {
     "name": "stdout",
     "output_type": "stream",
     "text": [
      "karachaevo-cherkesskaia-respublika.geojson\n",
      "respublika-ingushetiia.geojson\n"
     ]
    }
   ],
   "source": [
    "data_list = []\n",
    "\n",
    "for root, dirs, files in os.walk(\"./datas\"):\n",
    "    for filename in files:\n",
    "        print(filename)\n",
    "        path = f'./datas/{filename}'\n",
    "        with open(path, \"r\", encoding='utf-8') as f:\n",
    "            data = f.read()\n",
    "            payload = Payload(data)\n",
    "            data_list.append(pd.DataFrame(payload.features))"
   ]
  },
  {
   "cell_type": "code",
   "execution_count": 6,
   "id": "4a4abdfb",
   "metadata": {},
   "outputs": [
    {
     "data": {
      "text/plain": [
       "[         type                                           geometry  \\\n",
       " 0     Feature  {'type': 'Point', 'coordinates': [42.3519, 44....   \n",
       " 1     Feature  {'type': 'Point', 'coordinates': [42.1506, 44....   \n",
       " 2     Feature  {'type': 'Point', 'coordinates': [42.3686, 44....   \n",
       " 3     Feature  {'type': 'Point', 'coordinates': [42.55, 44.23...   \n",
       " 4     Feature  {'type': 'Point', 'coordinates': [42.261765, 4...   \n",
       " ...       ...                                                ...   \n",
       " 3622  Feature  {'type': 'Point', 'coordinates': [41.91238, 43...   \n",
       " 3623  Feature  {'type': 'Point', 'coordinates': [41.9883, 43....   \n",
       " 3624  Feature  {'type': 'Point', 'coordinates': [41.913153, 4...   \n",
       " 3625  Feature  {'type': 'Point', 'coordinates': [41.9114, 43....   \n",
       " 3626  Feature  {'type': 'Point', 'coordinates': [41.9119, 43....   \n",
       " \n",
       "                                              properties  \n",
       " 0     {'id': 2472152, 'tags': ['Дорожно-транспортные...  \n",
       " 1     {'id': 2470800, 'tags': ['Дорожно-транспортные...  \n",
       " 2     {'id': 2470801, 'tags': ['Дорожно-транспортные...  \n",
       " 3     {'id': 2472160, 'tags': ['Дорожно-транспортные...  \n",
       " 4     {'id': 2472217, 'tags': ['Дорожно-транспортные...  \n",
       " ...                                                 ...  \n",
       " 3622  {'id': 2473134, 'tags': ['Дорожно-транспортные...  \n",
       " 3623  {'id': 2471497, 'tags': ['Дорожно-транспортные...  \n",
       " 3624  {'id': 2566891, 'tags': ['Дорожно-транспортные...  \n",
       " 3625  {'id': 2473183, 'tags': ['Дорожно-транспортные...  \n",
       " 3626  {'id': 2471043, 'tags': ['Дорожно-транспортные...  \n",
       " \n",
       " [3627 rows x 3 columns],\n",
       "          type                                           geometry  \\\n",
       " 0     Feature  {'type': 'Point', 'coordinates': [44.760725, 4...   \n",
       " 1     Feature  {'type': 'Point', 'coordinates': [44.586961, 4...   \n",
       " 2     Feature  {'type': 'Point', 'coordinates': [44.641796, 4...   \n",
       " 3     Feature  {'type': 'Point', 'coordinates': [44.865439, 4...   \n",
       " 4     Feature  {'type': 'Point', 'coordinates': [44.76506, 43...   \n",
       " ...       ...                                                ...   \n",
       " 1365  Feature  {'type': 'Point', 'coordinates': [44.756069, 4...   \n",
       " 1366  Feature  {'type': 'Point', 'coordinates': [44.781303, 4...   \n",
       " 1367  Feature  {'type': 'Point', 'coordinates': [44.7758, 43....   \n",
       " 1368  Feature     {'type': 'Point', 'coordinates': [None, None]}   \n",
       " 1369  Feature  {'type': 'Point', 'coordinates': [44.754, 43.1...   \n",
       " \n",
       "                                              properties  \n",
       " 0     {'id': 2572468, 'tags': ['Дорожно-транспортные...  \n",
       " 1     {'id': 2557528, 'tags': ['Дорожно-транспортные...  \n",
       " 2     {'id': 2557534, 'tags': ['Дорожно-транспортные...  \n",
       " 3     {'id': 2601669, 'tags': ['Дорожно-транспортные...  \n",
       " 4     {'id': 2654947, 'tags': ['Дорожно-транспортные...  \n",
       " ...                                                 ...  \n",
       " 1365  {'id': 2566645, 'tags': ['Дорожно-транспортные...  \n",
       " 1366  {'id': 2449211, 'tags': ['Дорожно-транспортные...  \n",
       " 1367  {'id': 2448738, 'tags': ['Дорожно-транспортные...  \n",
       " 1368  {'id': 2449158, 'tags': ['Дорожно-транспортные...  \n",
       " 1369  {'id': 2448654, 'tags': ['Дорожно-транспортные...  \n",
       " \n",
       " [1370 rows x 3 columns]]"
      ]
     },
     "execution_count": 6,
     "metadata": {},
     "output_type": "execute_result"
    }
   ],
   "source": [
    "data_list"
   ]
  },
  {
   "cell_type": "code",
   "execution_count": null,
   "id": "ad7fccbf",
   "metadata": {},
   "outputs": [],
   "source": []
  }
 ],
 "metadata": {
  "kernelspec": {
   "display_name": "Python 3 (ipykernel)",
   "language": "python",
   "name": "python3"
  },
  "language_info": {
   "codemirror_mode": {
    "name": "ipython",
    "version": 3
   },
   "file_extension": ".py",
   "mimetype": "text/x-python",
   "name": "python",
   "nbconvert_exporter": "python",
   "pygments_lexer": "ipython3",
   "version": "3.10.2"
  }
 },
 "nbformat": 4,
 "nbformat_minor": 5
}
